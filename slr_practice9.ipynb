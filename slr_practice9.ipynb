{
 "cells": [
  {
   "cell_type": "markdown",
   "id": "777541c2-e78e-467e-83dc-3e597749a10a",
   "metadata": {},
   "source": [
    "# Basit Doğrusal Regresyon - Model Tuning - Model Doğrulama"
   ]
  },
  {
   "cell_type": "markdown",
   "id": "86c0c366-39c4-4796-90e4-4c5205825511",
   "metadata": {},
   "source": [
    "### Şirket, işçilerin deneyimlerine ve maaşlarına dair bir veri seti oluşturdu. Bu veri setinde, işçilerin deneyimleri ve aldıkları maaşlar yer almaktadır."
   ]
  },
  {
   "cell_type": "code",
   "execution_count": 101,
   "id": "b6b94729-cfde-4826-b852-3d64a0e4e5ff",
   "metadata": {},
   "outputs": [],
   "source": [
    "import numpy as np\n",
    "import pandas as pd\n",
    "import seaborn as sns\n",
    "from sklearn.linear_model import LinearRegression\n",
    "from sklearn.model_selection import train_test_split\n",
    "from sklearn.metrics import r2_score, mean_squared_error\n",
    "from scipy import stats\n",
    "import matplotlib.pyplot as plt"
   ]
  },
  {
   "cell_type": "code",
   "execution_count": 102,
   "id": "4a050964-cb45-4add-bc4c-3790281afe41",
   "metadata": {},
   "outputs": [
    {
     "data": {
      "text/html": [
       "<div>\n",
       "<style scoped>\n",
       "    .dataframe tbody tr th:only-of-type {\n",
       "        vertical-align: middle;\n",
       "    }\n",
       "\n",
       "    .dataframe tbody tr th {\n",
       "        vertical-align: top;\n",
       "    }\n",
       "\n",
       "    .dataframe thead th {\n",
       "        text-align: right;\n",
       "    }\n",
       "</style>\n",
       "<table border=\"1\" class=\"dataframe\">\n",
       "  <thead>\n",
       "    <tr style=\"text-align: right;\">\n",
       "      <th></th>\n",
       "      <th>deneyim</th>\n",
       "      <th>maas</th>\n",
       "    </tr>\n",
       "  </thead>\n",
       "  <tbody>\n",
       "    <tr>\n",
       "      <th>0</th>\n",
       "      <td>1</td>\n",
       "      <td>3000</td>\n",
       "    </tr>\n",
       "    <tr>\n",
       "      <th>1</th>\n",
       "      <td>2</td>\n",
       "      <td>4000</td>\n",
       "    </tr>\n",
       "    <tr>\n",
       "      <th>2</th>\n",
       "      <td>3</td>\n",
       "      <td>5000</td>\n",
       "    </tr>\n",
       "    <tr>\n",
       "      <th>3</th>\n",
       "      <td>4</td>\n",
       "      <td>6000</td>\n",
       "    </tr>\n",
       "    <tr>\n",
       "      <th>4</th>\n",
       "      <td>5</td>\n",
       "      <td>7000</td>\n",
       "    </tr>\n",
       "  </tbody>\n",
       "</table>\n",
       "</div>"
      ],
      "text/plain": [
       "   deneyim  maas\n",
       "0        1  3000\n",
       "1        2  4000\n",
       "2        3  5000\n",
       "3        4  6000\n",
       "4        5  7000"
      ]
     },
     "execution_count": 102,
     "metadata": {},
     "output_type": "execute_result"
    }
   ],
   "source": [
    "# veri setini oluşturalım.\n",
    "deneyim = [1, 2, 3, 4, 5, 6, 7, 8, 9, 10]\n",
    "maas = [3000, 4000, 5000, 6000, 7000, 8000, 9000, 10000, 11000, 12000]\n",
    "\n",
    "data = pd.DataFrame({'deneyim':deneyim, 'maas':maas})\n",
    "data.head()"
   ]
  },
  {
   "cell_type": "markdown",
   "id": "7d746869-19a9-4d17-a645-cf59f5864229",
   "metadata": {},
   "source": [
    "# Veri Ön İşleme"
   ]
  },
  {
   "cell_type": "code",
   "execution_count": 103,
   "id": "900dbad7-95f1-4574-b4f3-80499e7f03a6",
   "metadata": {},
   "outputs": [
    {
     "data": {
      "text/plain": [
       "deneyim    0\n",
       "maas       0\n",
       "dtype: int64"
      ]
     },
     "execution_count": 103,
     "metadata": {},
     "output_type": "execute_result"
    }
   ],
   "source": [
    "# eksik gözlem analizi\n",
    "\n",
    "data.isnull().sum()"
   ]
  },
  {
   "cell_type": "code",
   "execution_count": 104,
   "id": "143c35f2-20db-4695-8f20-d3bf06c9b628",
   "metadata": {},
   "outputs": [
    {
     "data": {
      "image/png": "[encoded data removed]",
      "text/plain": [
       "<Figure size 432x288 with 1 Axes>"
      ]
     },
     "metadata": {
      "needs_background": "light"
     },
     "output_type": "display_data"
    }
   ],
   "source": [
    "# aykırı gözlem analizi\n",
    "\n",
    "sns.boxplot(data=data, x='maas');"
   ]
  },
  {
   "cell_type": "code",
   "execution_count": 105,
   "id": "05184fbe-c8eb-4227-a8c4-fbabe6356d78",
   "metadata": {},
   "outputs": [
    {
     "data": {
      "image/png": "[encoded data removed]",
      "text/plain": [
       "<Figure size 360x360 with 6 Axes>"
      ]
     },
     "metadata": {
      "needs_background": "light"
     },
     "output_type": "display_data"
    }
   ],
   "source": [
    "# değişkenler arasındaki korelasyonun gözlenmesi\n",
    "\n",
    "sns.pairplot(data=data);"
   ]
  },
  {
   "cell_type": "markdown",
   "id": "8a837946-a638-472b-8694-bbe9d8c2e108",
   "metadata": {},
   "source": [
    "# Hipotez Testi\n",
    "\n",
    "#### Şimdi, maaşların deneyimle nasıl ilişkili olduğunu test etmek için bir hipotez testi yapabiliriz. İlk olarak, hipotezlerimizi belirleyelim:\n",
    "\n",
    "#### • H0: Maaşlar deneyimle ilişkisizdir (β1 = 0)\n",
    "#### • H1: Maaşlar deneyimle ilişkilidir (β1 ≠ 0)\n",
    "#### Burada, β1, maaşlar ve deneyim arasındaki katsayıdır. Hipotez testi için p-değeri kullanacağız. P-değeri, hipotezimizin doğru olma olasılığını gösterir. P-değeri 0.05'ten küçükse, hipotezimizi reddederiz."
   ]
  },
  {
   "cell_type": "code",
   "execution_count": 106,
   "id": "51237aea-8968-4cb3-95ce-20377d17a3f3",
   "metadata": {},
   "outputs": [],
   "source": [
    "# bağımlı ve bağımsız değişkenlerimizi oluşturalım.\n",
    "X = data.iloc[:, :-1].values\n",
    "y = data.iloc[:, 1].values"
   ]
  },
  {
   "cell_type": "code",
   "execution_count": 107,
   "id": "67dc533c-a6f8-4da8-95a2-b7f61af070a4",
   "metadata": {},
   "outputs": [
    {
     "name": "stdout",
     "output_type": "stream",
     "text": [
      "Slope:  1000.0\n",
      "Intercept:  2000.0\n",
      "R-squared:  1.0\n",
      "P-value:  4.375000000000076e-80\n",
      "Hata:  0.0\n"
     ]
    }
   ],
   "source": [
    "slope, intercept, r_value, p_value, std_err = stats.linregress(X[:, 0], y)\n",
    "print('Slope: ', slope)\n",
    "print('Intercept: ', intercept)\n",
    "print('R-squared: ', r_value)\n",
    "print('P-value: ', p_value)\n",
    "print('Hata: ', std_err)"
   ]
  },
  {
   "cell_type": "markdown",
   "id": "f19628d7-6d5d-4408-950c-b0d4d4536833",
   "metadata": {},
   "source": [
    "#### P-value değeri 0.05 'den küçük olduğu için H0 hipotezimizi reddediyoruz. Yani, maaşlar deneyimle ilişkilidir."
   ]
  },
  {
   "cell_type": "code",
   "execution_count": 108,
   "id": "9d29a50c-30a4-4e71-8f6f-13a5d21bbbad",
   "metadata": {},
   "outputs": [
    {
     "data": {
      "image/png": "[encoded data removed]",
      "text/plain": [
       "<Figure size 432x288 with 1 Axes>"
      ]
     },
     "metadata": {
      "needs_background": "light"
     },
     "output_type": "display_data"
    }
   ],
   "source": [
    "plt.scatter(X[:, 0], y, color='red')\n",
    "plt.plot(X[:, 0], slope * X[:,0] + intercept, color='blue')\n",
    "plt.title('Deneyim ve Maaş İlişkisi')\n",
    "plt.xlabel('Deneyim (Yıl)')\n",
    "plt.ylabel('Maaş')\n",
    "plt.show()"
   ]
  },
  {
   "cell_type": "markdown",
   "id": "62225b30-760c-45a5-ba5d-516e2b179396",
   "metadata": {},
   "source": [
    "# Model Tuning ve Model Doğrulama"
   ]
  },
  {
   "cell_type": "code",
   "execution_count": 109,
   "id": "16064897-b278-41f2-961e-d054b8f242c2",
   "metadata": {},
   "outputs": [],
   "source": [
    "# eğitim ve test setlerini ayıralım.\n",
    "X_train, X_test, y_train, y_test = train_test_split(X, y, test_size=0.2, random_state=0)"
   ]
  },
  {
   "cell_type": "code",
   "execution_count": 110,
   "id": "49d370f9-93e2-4577-9e59-fbeccaa9cde9",
   "metadata": {},
   "outputs": [
    {
     "data": {
      "text/plain": [
       "LinearRegression()"
      ]
     },
     "execution_count": 110,
     "metadata": {},
     "output_type": "execute_result"
    }
   ],
   "source": [
    "# modeli oluşturalım ve eğitelim.\n",
    "model = LinearRegression()\n",
    "model.fit(X_train, y_train)"
   ]
  },
  {
   "cell_type": "code",
   "execution_count": 111,
   "id": "aaba8c56-528f-4f3d-8685-89651dc6552d",
   "metadata": {},
   "outputs": [],
   "source": [
    "# Tahmin\n",
    "y_pred = model.predict(X_test)"
   ]
  },
  {
   "cell_type": "code",
   "execution_count": 112,
   "id": "d8f6e4b5-b38b-421c-9125-0199f4bf717d",
   "metadata": {},
   "outputs": [
    {
     "name": "stdout",
     "output_type": "stream",
     "text": [
      "R-kare değeri:  1.0\n",
      "MSE değeri:  0.0\n"
     ]
    }
   ],
   "source": [
    "# R-kare ve MSE değerleri\n",
    "\n",
    "r2 = r2_score(y_test, y_pred)\n",
    "mse = mean_squared_error(y_test, y_pred)\n",
    "\n",
    "print('R-kare değeri: ', r2)\n",
    "print('MSE değeri: ', mse)"
   ]
  },
  {
   "cell_type": "markdown",
   "id": "197eed97-f2bb-478a-bdbb-a265d77f9b9e",
   "metadata": {},
   "source": [
    "# Sonuç\n",
    "\n",
    "### Veri setimizin kolay olmuş olması, fazla detaya inmeden maksimum verimliliği almamızı sağladı. R-kare değerimiz, olabilecek en iyi değer. MSE hata değerimiz de öyle. Gerçek hayatta karşılaşacağımız veriler bu kadar kolay olmayacaktır. Fakat, gerçek hayatta zor bir veri seti ile karşılaştığımızda uygulayacağımız adımlar üstün körü yukarıdaki gibidir."
   ]
  },
  {
   "cell_type": "code",
   "execution_count": null,
   "id": "53715b98-cd67-4a32-b995-ccc4de85b71e",
   "metadata": {},
   "outputs": [],
   "source": []
  },
  {
   "cell_type": "code",
   "execution_count": 113,
   "id": "cdb4495b-f29f-4e94-b7ca-e707d592fc10",
   "metadata": {},
   "outputs": [
    {
     "name": "stdout",
     "output_type": "stream",
     "text": [
      "Makine Öğrenmesi Uygulamasına Hoş Geldiniz!\n",
      "Girdi olarak deneyimizi girdiğinizde aldığınız veya alabileceğiniz maaşı tahmin eden bir yapay zeka.\n"
     ]
    },
    {
     "name": "stdin",
     "output_type": "stream",
     "text": [
      "Lütfen bulunduğunuz kurumdaki deneyimizi giriniz:  22\n"
     ]
    },
    {
     "name": "stdout",
     "output_type": "stream",
     "text": [
      "22 senelik deneyiminiz göz önünde bulunarak tahmini kazancınız: 24000.00 TL \"dir.\n"
     ]
    }
   ],
   "source": [
    "print('Makine Öğrenmesi Uygulamasına Hoş Geldiniz!\\nGirdi olarak deneyimizi girdiğinizde aldığınız veya alabileceğiniz maaşı tahmin eden bir yapay zeka.')\n",
    "\n",
    "user_input = input('Lütfen bulunduğunuz kurumdaki deneyimizi giriniz: ')\n",
    "model = model.predict([[int(user_input)]])\n",
    "print(f'{user_input} senelik deneyiminiz göz önünde bulunarak tahmini kazancınız: {(model[0]):.2f} TL \"dir.')"
   ]
  }
 ],
 "metadata": {
  "kernelspec": {
   "display_name": "Python 3 (ipykernel)",
   "language": "python",
   "name": "python3"
  },
  "language_info": {
   "codemirror_mode": {
    "name": "ipython",
    "version": 3
   },
   "file_extension": ".py",
   "mimetype": "text/x-python",
   "name": "python",
   "nbconvert_exporter": "python",
   "pygments_lexer": "ipython3",
   "version": "3.9.12"
  }
 },
 "nbformat": 4,
 "nbformat_minor": 5
}
